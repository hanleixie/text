{
 "cells": [
  {
   "cell_type": "markdown",
   "metadata": {},
   "source": [
    "# 加载复旦大学语料"
   ]
  },
  {
   "cell_type": "code",
   "execution_count": 96,
   "metadata": {},
   "outputs": [],
   "source": [
    "import pandas as pd\n",
    "\n",
    "RawData_path = r'E:\\xiehlb\\FuDan_chinese.xlsx'\n",
    "raw_data = pd.read_excel(RawData_path, 'sheet1')"
   ]
  },
  {
   "cell_type": "code",
   "execution_count": 97,
   "metadata": {},
   "outputs": [
    {
     "data": {
      "text/html": [
       "<div>\n",
       "<style scoped>\n",
       "    .dataframe tbody tr th:only-of-type {\n",
       "        vertical-align: middle;\n",
       "    }\n",
       "\n",
       "    .dataframe tbody tr th {\n",
       "        vertical-align: top;\n",
       "    }\n",
       "\n",
       "    .dataframe thead th {\n",
       "        text-align: right;\n",
       "    }\n",
       "</style>\n",
       "<table border=\"1\" class=\"dataframe\">\n",
       "  <thead>\n",
       "    <tr style=\"text-align: right;\">\n",
       "      <th></th>\n",
       "      <th>分类</th>\n",
       "      <th>正文</th>\n",
       "    </tr>\n",
       "  </thead>\n",
       "  <tbody>\n",
       "    <tr>\n",
       "      <th>0</th>\n",
       "      <td>艺术</td>\n",
       "      <td>﻿【 文献号 】1-2432\\n【原文出处】出版发行研究\\n【原刊地名】京\\n【原刊期号】1...</td>\n",
       "    </tr>\n",
       "    <tr>\n",
       "      <th>1</th>\n",
       "      <td>艺术</td>\n",
       "      <td>﻿【 文献号 】1-2435\\n【原文出处】扬州师院学报：社科版\\n【原刊期号】199504...</td>\n",
       "    </tr>\n",
       "    <tr>\n",
       "      <th>2</th>\n",
       "      <td>艺术</td>\n",
       "      <td>﻿【 文献号 】1-2785\\n【原文出处】南通师专学报：社科版\\n【原刊期号】199503...</td>\n",
       "    </tr>\n",
       "    <tr>\n",
       "      <th>3</th>\n",
       "      <td>艺术</td>\n",
       "      <td>﻿【 文献号 】1-3021\\n【原文出处】社会科学战线\\n【原刊地名】长春\\n【原刊期号】...</td>\n",
       "    </tr>\n",
       "    <tr>\n",
       "      <th>4</th>\n",
       "      <td>艺术</td>\n",
       "      <td>﻿【 文献号 】1-3062\\n【原文出处】上海文化\\n【原刊期号】199505\\n【原刊页...</td>\n",
       "    </tr>\n",
       "  </tbody>\n",
       "</table>\n",
       "</div>"
      ],
      "text/plain": [
       "   分类                                                 正文\n",
       "0  艺术  ﻿【 文献号 】1-2432\\n【原文出处】出版发行研究\\n【原刊地名】京\\n【原刊期号】1...\n",
       "1  艺术  ﻿【 文献号 】1-2435\\n【原文出处】扬州师院学报：社科版\\n【原刊期号】199504...\n",
       "2  艺术  ﻿【 文献号 】1-2785\\n【原文出处】南通师专学报：社科版\\n【原刊期号】199503...\n",
       "3  艺术  ﻿【 文献号 】1-3021\\n【原文出处】社会科学战线\\n【原刊地名】长春\\n【原刊期号】...\n",
       "4  艺术  ﻿【 文献号 】1-3062\\n【原文出处】上海文化\\n【原刊期号】199505\\n【原刊页..."
      ]
     },
     "execution_count": 97,
     "metadata": {},
     "output_type": "execute_result"
    }
   ],
   "source": [
    "raw_data.head()"
   ]
  },
  {
   "cell_type": "code",
   "execution_count": 98,
   "metadata": {},
   "outputs": [
    {
     "name": "stdout",
     "output_type": "stream",
     "text": [
      "<class 'pandas.core.frame.DataFrame'>\n",
      "RangeIndex: 9249 entries, 0 to 9248\n",
      "Data columns (total 2 columns):\n",
      " #   Column  Non-Null Count  Dtype \n",
      "---  ------  --------------  ----- \n",
      " 0   分类      9249 non-null   object\n",
      " 1   正文      9249 non-null   object\n",
      "dtypes: object(2)\n",
      "memory usage: 144.6+ KB\n"
     ]
    }
   ],
   "source": [
    "raw_data.info()"
   ]
  },
  {
   "cell_type": "code",
   "execution_count": 99,
   "metadata": {},
   "outputs": [],
   "source": [
    "raw_data.rename(columns={'正文':'text'},inplace=True)\n",
    "raw_data.rename(columns={'分类':'class'},inplace=True)"
   ]
  },
  {
   "cell_type": "code",
   "execution_count": 100,
   "metadata": {},
   "outputs": [
    {
     "data": {
      "text/html": [
       "<div>\n",
       "<style scoped>\n",
       "    .dataframe tbody tr th:only-of-type {\n",
       "        vertical-align: middle;\n",
       "    }\n",
       "\n",
       "    .dataframe tbody tr th {\n",
       "        vertical-align: top;\n",
       "    }\n",
       "\n",
       "    .dataframe thead th {\n",
       "        text-align: right;\n",
       "    }\n",
       "</style>\n",
       "<table border=\"1\" class=\"dataframe\">\n",
       "  <thead>\n",
       "    <tr style=\"text-align: right;\">\n",
       "      <th></th>\n",
       "      <th>class</th>\n",
       "      <th>text</th>\n",
       "    </tr>\n",
       "  </thead>\n",
       "  <tbody>\n",
       "    <tr>\n",
       "      <th>0</th>\n",
       "      <td>艺术</td>\n",
       "      <td>﻿【 文献号 】1-2432\\n【原文出处】出版发行研究\\n【原刊地名】京\\n【原刊期号】1...</td>\n",
       "    </tr>\n",
       "    <tr>\n",
       "      <th>1</th>\n",
       "      <td>艺术</td>\n",
       "      <td>﻿【 文献号 】1-2435\\n【原文出处】扬州师院学报：社科版\\n【原刊期号】199504...</td>\n",
       "    </tr>\n",
       "    <tr>\n",
       "      <th>2</th>\n",
       "      <td>艺术</td>\n",
       "      <td>﻿【 文献号 】1-2785\\n【原文出处】南通师专学报：社科版\\n【原刊期号】199503...</td>\n",
       "    </tr>\n",
       "    <tr>\n",
       "      <th>3</th>\n",
       "      <td>艺术</td>\n",
       "      <td>﻿【 文献号 】1-3021\\n【原文出处】社会科学战线\\n【原刊地名】长春\\n【原刊期号】...</td>\n",
       "    </tr>\n",
       "    <tr>\n",
       "      <th>4</th>\n",
       "      <td>艺术</td>\n",
       "      <td>﻿【 文献号 】1-3062\\n【原文出处】上海文化\\n【原刊期号】199505\\n【原刊页...</td>\n",
       "    </tr>\n",
       "  </tbody>\n",
       "</table>\n",
       "</div>"
      ],
      "text/plain": [
       "  class                                               text\n",
       "0    艺术  ﻿【 文献号 】1-2432\\n【原文出处】出版发行研究\\n【原刊地名】京\\n【原刊期号】1...\n",
       "1    艺术  ﻿【 文献号 】1-2435\\n【原文出处】扬州师院学报：社科版\\n【原刊期号】199504...\n",
       "2    艺术  ﻿【 文献号 】1-2785\\n【原文出处】南通师专学报：社科版\\n【原刊期号】199503...\n",
       "3    艺术  ﻿【 文献号 】1-3021\\n【原文出处】社会科学战线\\n【原刊地名】长春\\n【原刊期号】...\n",
       "4    艺术  ﻿【 文献号 】1-3062\\n【原文出处】上海文化\\n【原刊期号】199505\\n【原刊页..."
      ]
     },
     "execution_count": 100,
     "metadata": {},
     "output_type": "execute_result"
    }
   ],
   "source": [
    "raw_data.head()"
   ]
  },
  {
   "cell_type": "markdown",
   "metadata": {},
   "source": [
    "## 查看有多少个类别"
   ]
  },
  {
   "cell_type": "code",
   "execution_count": 101,
   "metadata": {},
   "outputs": [
    {
     "data": {
      "text/plain": [
       "array(['艺术', '文学', '哲学', '通信', '能源', '历史', '矿藏', '空间', '教育', '交通', '计算机',\n",
       "       '环境', '电子', '农业', '体育', '时政', '医疗', '经济', '法律'], dtype=object)"
      ]
     },
     "execution_count": 101,
     "metadata": {},
     "output_type": "execute_result"
    }
   ],
   "source": [
    "raw_data['class'].unique()"
   ]
  },
  {
   "cell_type": "markdown",
   "metadata": {},
   "source": [
    "## jieba分词"
   ]
  },
  {
   "cell_type": "code",
   "execution_count": 104,
   "metadata": {},
   "outputs": [],
   "source": [
    "import jieba\n",
    "import re\n",
    "\n",
    "def miss_stop(sents):\n",
    "    miss_stop_words = []\n",
    "    for word in sents:\n",
    "        if word in stop_words:\n",
    "            continue\n",
    "        miss_stop_words.append(word)\n",
    "    return miss_stop_words\n",
    "\n",
    "stop_words = [line.strip() for line in open(r'E:\\xiehlb\\stop_words.txt', 'r', encoding='utf-8').readlines()]\n",
    "raw_data['cut_text'] = raw_data['text'].apply(lambda i:jieba.lcut(i))\n",
    "# raw_data['cut_text'] = [''.join(i) for i in raw_data['cut_text']]\n",
    "# remove_chars = '[·’!\"#$%&\\'()*+,-./:;<=>?@，。?★、…【】《》？“”‘’！[\\\\]^_`{|}~\\d]+'\n",
    "# raw_data['cut_text'] = raw_data['cut_text'].apply(lambda i:re.sub(remove_chars, '', i))"
   ]
  },
  {
   "cell_type": "code",
   "execution_count": 106,
   "metadata": {},
   "outputs": [],
   "source": [
    "raw_data['cut_text'] = raw_data['cut_text'].apply(lambda i:miss_stop(i))"
   ]
  },
  {
   "cell_type": "code",
   "execution_count": 107,
   "metadata": {},
   "outputs": [
    {
     "data": {
      "text/html": [
       "<div>\n",
       "<style scoped>\n",
       "    .dataframe tbody tr th:only-of-type {\n",
       "        vertical-align: middle;\n",
       "    }\n",
       "\n",
       "    .dataframe tbody tr th {\n",
       "        vertical-align: top;\n",
       "    }\n",
       "\n",
       "    .dataframe thead th {\n",
       "        text-align: right;\n",
       "    }\n",
       "</style>\n",
       "<table border=\"1\" class=\"dataframe\">\n",
       "  <thead>\n",
       "    <tr style=\"text-align: right;\">\n",
       "      <th></th>\n",
       "      <th>class</th>\n",
       "      <th>text</th>\n",
       "      <th>cut_text</th>\n",
       "    </tr>\n",
       "  </thead>\n",
       "  <tbody>\n",
       "    <tr>\n",
       "      <th>0</th>\n",
       "      <td>艺术</td>\n",
       "      <td>﻿【 文献号 】1-2432\\n【原文出处】出版发行研究\\n【原刊地名】京\\n【原刊期号】1...</td>\n",
       "      <td>[﻿,  , 文献号,  , 2432, \\n, 原文, 出处, 出版发行, 研究, \\n,...</td>\n",
       "    </tr>\n",
       "    <tr>\n",
       "      <th>1</th>\n",
       "      <td>艺术</td>\n",
       "      <td>﻿【 文献号 】1-2435\\n【原文出处】扬州师院学报：社科版\\n【原刊期号】199504...</td>\n",
       "      <td>[﻿,  , 文献号,  , 2435, \\n, 原文, 出处, 扬州, 师院, 学报, 社...</td>\n",
       "    </tr>\n",
       "    <tr>\n",
       "      <th>2</th>\n",
       "      <td>艺术</td>\n",
       "      <td>﻿【 文献号 】1-2785\\n【原文出处】南通师专学报：社科版\\n【原刊期号】199503...</td>\n",
       "      <td>[﻿,  , 文献号,  , 2785, \\n, 原文, 出处, 南通, 师专, 学报, 社...</td>\n",
       "    </tr>\n",
       "    <tr>\n",
       "      <th>3</th>\n",
       "      <td>艺术</td>\n",
       "      <td>﻿【 文献号 】1-3021\\n【原文出处】社会科学战线\\n【原刊地名】长春\\n【原刊期号】...</td>\n",
       "      <td>[﻿,  , 文献号,  , 3021, \\n, 原文, 出处, 社会科学, 战线, \\n,...</td>\n",
       "    </tr>\n",
       "    <tr>\n",
       "      <th>4</th>\n",
       "      <td>艺术</td>\n",
       "      <td>﻿【 文献号 】1-3062\\n【原文出处】上海文化\\n【原刊期号】199505\\n【原刊页...</td>\n",
       "      <td>[﻿,  , 文献号,  , 3062, \\n, 原文, 出处, 上海, 文化, \\n, 原...</td>\n",
       "    </tr>\n",
       "  </tbody>\n",
       "</table>\n",
       "</div>"
      ],
      "text/plain": [
       "  class                                               text  \\\n",
       "0    艺术  ﻿【 文献号 】1-2432\\n【原文出处】出版发行研究\\n【原刊地名】京\\n【原刊期号】1...   \n",
       "1    艺术  ﻿【 文献号 】1-2435\\n【原文出处】扬州师院学报：社科版\\n【原刊期号】199504...   \n",
       "2    艺术  ﻿【 文献号 】1-2785\\n【原文出处】南通师专学报：社科版\\n【原刊期号】199503...   \n",
       "3    艺术  ﻿【 文献号 】1-3021\\n【原文出处】社会科学战线\\n【原刊地名】长春\\n【原刊期号】...   \n",
       "4    艺术  ﻿【 文献号 】1-3062\\n【原文出处】上海文化\\n【原刊期号】199505\\n【原刊页...   \n",
       "\n",
       "                                            cut_text  \n",
       "0  [﻿,  , 文献号,  , 2432, \\n, 原文, 出处, 出版发行, 研究, \\n,...  \n",
       "1  [﻿,  , 文献号,  , 2435, \\n, 原文, 出处, 扬州, 师院, 学报, 社...  \n",
       "2  [﻿,  , 文献号,  , 2785, \\n, 原文, 出处, 南通, 师专, 学报, 社...  \n",
       "3  [﻿,  , 文献号,  , 3021, \\n, 原文, 出处, 社会科学, 战线, \\n,...  \n",
       "4  [﻿,  , 文献号,  , 3062, \\n, 原文, 出处, 上海, 文化, \\n, 原...  "
      ]
     },
     "execution_count": 107,
     "metadata": {},
     "output_type": "execute_result"
    }
   ],
   "source": [
    "raw_data.head()"
   ]
  },
  {
   "cell_type": "code",
   "execution_count": null,
   "metadata": {},
   "outputs": [],
   "source": []
  },
  {
   "cell_type": "code",
   "execution_count": 50,
   "metadata": {},
   "outputs": [],
   "source": [
    "raw_data['cut_text'] = raw_data['cut_text'].apply(lambda i:re.sub(r'\\d', '', i))"
   ]
  },
  {
   "cell_type": "code",
   "execution_count": 51,
   "metadata": {},
   "outputs": [
    {
     "data": {
      "text/html": [
       "<div>\n",
       "<style scoped>\n",
       "    .dataframe tbody tr th:only-of-type {\n",
       "        vertical-align: middle;\n",
       "    }\n",
       "\n",
       "    .dataframe tbody tr th {\n",
       "        vertical-align: top;\n",
       "    }\n",
       "\n",
       "    .dataframe thead th {\n",
       "        text-align: right;\n",
       "    }\n",
       "</style>\n",
       "<table border=\"1\" class=\"dataframe\">\n",
       "  <thead>\n",
       "    <tr style=\"text-align: right;\">\n",
       "      <th></th>\n",
       "      <th>class</th>\n",
       "      <th>text</th>\n",
       "      <th>cut_text</th>\n",
       "    </tr>\n",
       "  </thead>\n",
       "  <tbody>\n",
       "    <tr>\n",
       "      <th>0</th>\n",
       "      <td>艺术</td>\n",
       "      <td>﻿【 文献号 】1-2432\\n【原文出处】出版发行研究\\n【原刊地名】京\\n【原刊期号】1...</td>\n",
       "      <td>﻿ 文献号 \\n原文出处出版发行研究\\n原刊地名京\\n原刊期号\\n原刊页号\\n分 类 号Z\\...</td>\n",
       "    </tr>\n",
       "    <tr>\n",
       "      <th>1</th>\n",
       "      <td>艺术</td>\n",
       "      <td>﻿【 文献号 】1-2435\\n【原文出处】扬州师院学报：社科版\\n【原刊期号】199504...</td>\n",
       "      <td>﻿ 文献号 \\n原文出处扬州师院学报：社科版\\n原刊期号\\n原刊页号\\n分 类 号Z\\n分 ...</td>\n",
       "    </tr>\n",
       "    <tr>\n",
       "      <th>2</th>\n",
       "      <td>艺术</td>\n",
       "      <td>﻿【 文献号 】1-2785\\n【原文出处】南通师专学报：社科版\\n【原刊期号】199503...</td>\n",
       "      <td>﻿ 文献号 \\n原文出处南通师专学报：社科版\\n原刊期号\\n原刊页号\\n分 类 号H\\n分 ...</td>\n",
       "    </tr>\n",
       "    <tr>\n",
       "      <th>3</th>\n",
       "      <td>艺术</td>\n",
       "      <td>﻿【 文献号 】1-3021\\n【原文出处】社会科学战线\\n【原刊地名】长春\\n【原刊期号】...</td>\n",
       "      <td>﻿ 文献号 \\n原文出处社会科学战线\\n原刊地名长春\\n原刊期号\\n原刊页号\\n分 类 号J...</td>\n",
       "    </tr>\n",
       "    <tr>\n",
       "      <th>4</th>\n",
       "      <td>艺术</td>\n",
       "      <td>﻿【 文献号 】1-3062\\n【原文出处】上海文化\\n【原刊期号】199505\\n【原刊页...</td>\n",
       "      <td>﻿ 文献号 \\n原文出处上海文化\\n原刊期号\\n原刊页号\\n分 类 号J\\n分 类 名文艺理...</td>\n",
       "    </tr>\n",
       "  </tbody>\n",
       "</table>\n",
       "</div>"
      ],
      "text/plain": [
       "  class                                               text  \\\n",
       "0    艺术  ﻿【 文献号 】1-2432\\n【原文出处】出版发行研究\\n【原刊地名】京\\n【原刊期号】1...   \n",
       "1    艺术  ﻿【 文献号 】1-2435\\n【原文出处】扬州师院学报：社科版\\n【原刊期号】199504...   \n",
       "2    艺术  ﻿【 文献号 】1-2785\\n【原文出处】南通师专学报：社科版\\n【原刊期号】199503...   \n",
       "3    艺术  ﻿【 文献号 】1-3021\\n【原文出处】社会科学战线\\n【原刊地名】长春\\n【原刊期号】...   \n",
       "4    艺术  ﻿【 文献号 】1-3062\\n【原文出处】上海文化\\n【原刊期号】199505\\n【原刊页...   \n",
       "\n",
       "                                            cut_text  \n",
       "0  ﻿ 文献号 \\n原文出处出版发行研究\\n原刊地名京\\n原刊期号\\n原刊页号\\n分 类 号Z\\...  \n",
       "1  ﻿ 文献号 \\n原文出处扬州师院学报：社科版\\n原刊期号\\n原刊页号\\n分 类 号Z\\n分 ...  \n",
       "2  ﻿ 文献号 \\n原文出处南通师专学报：社科版\\n原刊期号\\n原刊页号\\n分 类 号H\\n分 ...  \n",
       "3  ﻿ 文献号 \\n原文出处社会科学战线\\n原刊地名长春\\n原刊期号\\n原刊页号\\n分 类 号J...  \n",
       "4  ﻿ 文献号 \\n原文出处上海文化\\n原刊期号\\n原刊页号\\n分 类 号J\\n分 类 名文艺理...  "
      ]
     },
     "execution_count": 51,
     "metadata": {},
     "output_type": "execute_result"
    }
   ],
   "source": [
    "raw_data.head()"
   ]
  },
  {
   "cell_type": "code",
   "execution_count": 52,
   "metadata": {},
   "outputs": [
    {
     "data": {
      "text/plain": [
       "9244    ﻿\\n 企业 管理 体制 与 生产 经营   \\n\\n 年 月  日 \\n 中国 农业 银行...\n",
       "9245    ﻿\\n 企业 管理 体制 与 生产 经营   \\n\\n 年 月  日 \\n 国务院     ...\n",
       "9246    ﻿\\n 企业 管理 体制 与 生产 经营   \\n\\n 年 月  日 \\n 化学 工业部 国...\n",
       "9247    ﻿\\n 企业 管理 体制 与 生产 经营     \\n\\n 年 月  日 \\n 国务院 轻工...\n",
       "9248    ﻿\\n 税收 流转税 \\n 年 月  日 \\n 财政部     \\n  中华人民共和国 产品...\n",
       "Name: cut_text, dtype: object"
      ]
     },
     "execution_count": 52,
     "metadata": {},
     "output_type": "execute_result"
    }
   ],
   "source": [
    "raw_data['cut_text'].tail()"
   ]
  },
  {
   "cell_type": "code",
   "execution_count": 141,
   "metadata": {},
   "outputs": [],
   "source": [
    "from sklearn import preprocessing\n",
    "from sklearn.model_selection import train_test_split\n",
    "class_digital = preprocessing.LabelEncoder()\n",
    "y = class_digital.fit_transform(raw_data['class'])\n",
    "\n",
    "xtrain, xvalid, ytrain, yvalid = train_test_split(raw_data['cut_text'].values, y, \n",
    "                                                  stratify=y, \n",
    "                                                  random_state=42, \n",
    "                                                  test_size=0.1, shuffle=True)"
   ]
  },
  {
   "cell_type": "markdown",
   "metadata": {},
   "source": [
    "## TF_IDF"
   ]
  },
  {
   "cell_type": "code",
   "execution_count": 139,
   "metadata": {},
   "outputs": [
    {
     "ename": "AttributeError",
     "evalue": "'int' object has no attribute 'lower'",
     "output_type": "error",
     "traceback": [
      "\u001b[1;31m---------------------------------------------------------------------------\u001b[0m",
      "\u001b[1;31mAttributeError\u001b[0m                            Traceback (most recent call last)",
      "\u001b[1;32m<ipython-input-139-50c03623e73a>\u001b[0m in \u001b[0;36m<module>\u001b[1;34m\u001b[0m\n\u001b[0;32m     19\u001b[0m \u001b[0mvectorizer\u001b[0m \u001b[1;33m=\u001b[0m \u001b[0mCountVectorizer\u001b[0m\u001b[1;33m(\u001b[0m\u001b[1;33m)\u001b[0m\u001b[1;33m\u001b[0m\u001b[0m\n\u001b[0;32m     20\u001b[0m \u001b[0mtransformer\u001b[0m \u001b[1;33m=\u001b[0m \u001b[0mTfidfTransformer\u001b[0m\u001b[1;33m(\u001b[0m\u001b[1;33m)\u001b[0m\u001b[1;33m\u001b[0m\u001b[0m\n\u001b[1;32m---> 21\u001b[1;33m \u001b[0mword_frequence\u001b[0m \u001b[1;33m=\u001b[0m \u001b[0mtransformer\u001b[0m\u001b[1;33m.\u001b[0m\u001b[0mfit_transform\u001b[0m\u001b[1;33m(\u001b[0m\u001b[0mvectorizer\u001b[0m\u001b[1;33m.\u001b[0m\u001b[0mfit_transform\u001b[0m\u001b[1;33m(\u001b[0m\u001b[0mwords_list\u001b[0m\u001b[1;33m)\u001b[0m\u001b[1;33m)\u001b[0m\u001b[1;33m\u001b[0m\u001b[0m\n\u001b[0m\u001b[0;32m     22\u001b[0m \u001b[1;31m#words = vectorizer.get_feature_names()\u001b[0m\u001b[1;33m\u001b[0m\u001b[1;33m\u001b[0m\u001b[0m\n\u001b[0;32m     23\u001b[0m \u001b[1;31m#\u001b[0m\u001b[1;33m\u001b[0m\u001b[1;33m\u001b[0m\u001b[0m\n",
      "\u001b[1;32m~\\ananconda3\\envs\\yonyou\\lib\\site-packages\\sklearn\\feature_extraction\\text.py\u001b[0m in \u001b[0;36mfit_transform\u001b[1;34m(self, raw_documents, y)\u001b[0m\n\u001b[0;32m    867\u001b[0m \u001b[1;33m\u001b[0m\u001b[0m\n\u001b[0;32m    868\u001b[0m         vocabulary, X = self._count_vocab(raw_documents,\n\u001b[1;32m--> 869\u001b[1;33m                                           self.fixed_vocabulary_)\n\u001b[0m\u001b[0;32m    870\u001b[0m \u001b[1;33m\u001b[0m\u001b[0m\n\u001b[0;32m    871\u001b[0m         \u001b[1;32mif\u001b[0m \u001b[0mself\u001b[0m\u001b[1;33m.\u001b[0m\u001b[0mbinary\u001b[0m\u001b[1;33m:\u001b[0m\u001b[1;33m\u001b[0m\u001b[0m\n",
      "\u001b[1;32m~\\ananconda3\\envs\\yonyou\\lib\\site-packages\\sklearn\\feature_extraction\\text.py\u001b[0m in \u001b[0;36m_count_vocab\u001b[1;34m(self, raw_documents, fixed_vocab)\u001b[0m\n\u001b[0;32m    790\u001b[0m         \u001b[1;32mfor\u001b[0m \u001b[0mdoc\u001b[0m \u001b[1;32min\u001b[0m \u001b[0mraw_documents\u001b[0m\u001b[1;33m:\u001b[0m\u001b[1;33m\u001b[0m\u001b[0m\n\u001b[0;32m    791\u001b[0m             \u001b[0mfeature_counter\u001b[0m \u001b[1;33m=\u001b[0m \u001b[1;33m{\u001b[0m\u001b[1;33m}\u001b[0m\u001b[1;33m\u001b[0m\u001b[0m\n\u001b[1;32m--> 792\u001b[1;33m             \u001b[1;32mfor\u001b[0m \u001b[0mfeature\u001b[0m \u001b[1;32min\u001b[0m \u001b[0manalyze\u001b[0m\u001b[1;33m(\u001b[0m\u001b[0mdoc\u001b[0m\u001b[1;33m)\u001b[0m\u001b[1;33m:\u001b[0m\u001b[1;33m\u001b[0m\u001b[0m\n\u001b[0m\u001b[0;32m    793\u001b[0m                 \u001b[1;32mtry\u001b[0m\u001b[1;33m:\u001b[0m\u001b[1;33m\u001b[0m\u001b[0m\n\u001b[0;32m    794\u001b[0m                     \u001b[0mfeature_idx\u001b[0m \u001b[1;33m=\u001b[0m \u001b[0mvocabulary\u001b[0m\u001b[1;33m[\u001b[0m\u001b[0mfeature\u001b[0m\u001b[1;33m]\u001b[0m\u001b[1;33m\u001b[0m\u001b[0m\n",
      "\u001b[1;32m~\\ananconda3\\envs\\yonyou\\lib\\site-packages\\sklearn\\feature_extraction\\text.py\u001b[0m in \u001b[0;36m<lambda>\u001b[1;34m(doc)\u001b[0m\n\u001b[0;32m    264\u001b[0m \u001b[1;33m\u001b[0m\u001b[0m\n\u001b[0;32m    265\u001b[0m             return lambda doc: self._word_ngrams(\n\u001b[1;32m--> 266\u001b[1;33m                 tokenize(preprocess(self.decode(doc))), stop_words)\n\u001b[0m\u001b[0;32m    267\u001b[0m \u001b[1;33m\u001b[0m\u001b[0m\n\u001b[0;32m    268\u001b[0m         \u001b[1;32melse\u001b[0m\u001b[1;33m:\u001b[0m\u001b[1;33m\u001b[0m\u001b[0m\n",
      "\u001b[1;32m~\\ananconda3\\envs\\yonyou\\lib\\site-packages\\sklearn\\feature_extraction\\text.py\u001b[0m in \u001b[0;36m<lambda>\u001b[1;34m(x)\u001b[0m\n\u001b[0;32m    230\u001b[0m \u001b[1;33m\u001b[0m\u001b[0m\n\u001b[0;32m    231\u001b[0m         \u001b[1;32mif\u001b[0m \u001b[0mself\u001b[0m\u001b[1;33m.\u001b[0m\u001b[0mlowercase\u001b[0m\u001b[1;33m:\u001b[0m\u001b[1;33m\u001b[0m\u001b[0m\n\u001b[1;32m--> 232\u001b[1;33m             \u001b[1;32mreturn\u001b[0m \u001b[1;32mlambda\u001b[0m \u001b[0mx\u001b[0m\u001b[1;33m:\u001b[0m \u001b[0mstrip_accents\u001b[0m\u001b[1;33m(\u001b[0m\u001b[0mx\u001b[0m\u001b[1;33m.\u001b[0m\u001b[0mlower\u001b[0m\u001b[1;33m(\u001b[0m\u001b[1;33m)\u001b[0m\u001b[1;33m)\u001b[0m\u001b[1;33m\u001b[0m\u001b[0m\n\u001b[0m\u001b[0;32m    233\u001b[0m         \u001b[1;32melse\u001b[0m\u001b[1;33m:\u001b[0m\u001b[1;33m\u001b[0m\u001b[0m\n\u001b[0;32m    234\u001b[0m             \u001b[1;32mreturn\u001b[0m \u001b[0mstrip_accents\u001b[0m\u001b[1;33m\u001b[0m\u001b[0m\n",
      "\u001b[1;31mAttributeError\u001b[0m: 'int' object has no attribute 'lower'"
     ]
    }
   ],
   "source": [
    "from sklearn.feature_extraction.text import TfidfVectorizer, CountVectorizer, TfidfTransformer\n",
    "\n",
    "\n",
    "# stop_words = [line.strip() for line in open(r'E:\\xiehlb\\停用词汇总.txt', 'r', encoding='utf-8').readlines()]\n",
    "# raw_data['cut_text'] = raw_data['cut_text'].apply(lambda i:if i not in stop_words)\n",
    "\n",
    "# vectorizer = TfidfVectorizer(stop_words = stop_words)\n",
    "wordslist = raw_data['cut_text'].values\n",
    "# words = vectorizer.fit_transform(wordslist)\n",
    "words_list = []\n",
    "for word_list in range(len(wordslist)):\n",
    "    words_list.append(word_list)\n",
    "# vectorizer=CountVectorizer()#该类会将文本中的词语转换为词频矩阵，矩阵元素a[i][j] 表示j词在i类文本下的词频\n",
    "# transformer=TfidfTransformer()#该类会统计每个词语的tf-idf权值\n",
    "# tfidf=transformer.fit_transform(vectorizer.fit_transform(corpus))#第一个fit_transform是计算tf-idf，第二个fit_transform是将文本转为词频矩阵\n",
    "# word=vectorizer.get_feature_names()#获取词袋模型中的所有词语\n",
    "# weight=tfidf.toarray()#将tf-idf矩阵抽取出来，元素a[i][j]表示j词在i类文本中的tf-idf权重\n",
    "vectorizer = CountVectorizer()\n",
    "transformer = TfidfTransformer()\n",
    "word_frequence = transformer.fit_transform(vectorizer.fit_transform(words_list))\n",
    "#words = vectorizer.get_feature_names()\n",
    "# \n",
    "# transformer = TfidfTransformer()\n",
    "# tfidf = transformer.fit_transform(word_frequence)\n",
    "# weight = tfidf.toarray()"
   ]
  },
  {
   "cell_type": "code",
   "execution_count": 138,
   "metadata": {},
   "outputs": [
    {
     "data": {
      "text/plain": [
       "(789, 446)"
      ]
     },
     "execution_count": 138,
     "metadata": {},
     "output_type": "execute_result"
    }
   ],
   "source": [
    "word_frequence.shape"
   ]
  },
  {
   "cell_type": "code",
   "execution_count": 118,
   "metadata": {},
   "outputs": [],
   "source": [
    "feature_name = vectorizer.get_feature_names()"
   ]
  },
  {
   "cell_type": "code",
   "execution_count": 119,
   "metadata": {},
   "outputs": [
    {
     "data": {
      "text/plain": [
       "(list,\n",
       " ['1946',\n",
       "  '1954',\n",
       "  '1970',\n",
       "  '1980',\n",
       "  '1986',\n",
       "  '199',\n",
       "  '1990',\n",
       "  '199601',\n",
       "  '199604',\n",
       "  '2432',\n",
       "  'andscienceo',\n",
       "  'art',\n",
       "  'bailey',\n",
       "  'book',\n",
       "  'herbert',\n",
       "  'jr',\n",
       "  'pblishing',\n",
       "  'the',\n",
       "  'z1',\n",
       "  '一册',\n",
       "  '一套',\n",
       "  '一本',\n",
       "  '一章',\n",
       "  '一节',\n",
       "  '三年',\n",
       "  '下意识',\n",
       "  '不以',\n",
       "  '不愿',\n",
       "  '不智',\n",
       "  '专业',\n",
       "  '专业书',\n",
       "  '专业书籍',\n",
       "  '专人',\n",
       "  '专讲',\n",
       "  '专题',\n",
       "  '业务',\n",
       "  '丛书',\n",
       "  '两年',\n",
       "  '两步走',\n",
       "  '中领',\n",
       "  '主要矛盾',\n",
       "  '主要职责',\n",
       "  '主观',\n",
       "  '主题',\n",
       "  '书中',\n",
       "  '书籍',\n",
       "  '书评',\n",
       "  '买书难',\n",
       "  '买到',\n",
       "  '亏损',\n",
       "  '五种',\n",
       "  '人事',\n",
       "  '介绍',\n",
       "  '代表',\n",
       "  '以内',\n",
       "  '以年',\n",
       "  '价值',\n",
       "  '价钱',\n",
       "  '企业',\n",
       "  '企图',\n",
       "  '体会',\n",
       "  '体现',\n",
       "  '作者',\n",
       "  '例外',\n",
       "  '供应量',\n",
       "  '便宜',\n",
       "  '信号',\n",
       "  '信息',\n",
       "  '修改',\n",
       "  '债务',\n",
       "  '健全',\n",
       "  '健康',\n",
       "  '充满',\n",
       "  '全盘',\n",
       "  '公式',\n",
       "  '公正',\n",
       "  '关系',\n",
       "  '兴趣',\n",
       "  '典型',\n",
       "  '内容',\n",
       "  '内部',\n",
       "  '再版',\n",
       "  '写给',\n",
       "  '冲突',\n",
       "  '决算表',\n",
       "  '准确',\n",
       "  '凡读',\n",
       "  '出书',\n",
       "  '出任',\n",
       "  '出名',\n",
       "  '出处',\n",
       "  '出版',\n",
       "  '出版业',\n",
       "  '出版发行',\n",
       "  '出版商',\n",
       "  '出版家',\n",
       "  '出版物',\n",
       "  '出版社',\n",
       "  '出版部',\n",
       "  '出身',\n",
       "  '分析',\n",
       "  '切身',\n",
       "  '创造力',\n",
       "  '利润',\n",
       "  '利用计算机',\n",
       "  '到期',\n",
       "  '功能',\n",
       "  '动力',\n",
       "  '区别',\n",
       "  '十分注意',\n",
       "  '协作',\n",
       "  '单位',\n",
       "  '卖书',\n",
       "  '卖掉',\n",
       "  '印书',\n",
       "  '印数',\n",
       "  '危险',\n",
       "  '历史',\n",
       "  '历年',\n",
       "  '原刊',\n",
       "  '原则',\n",
       "  '原文',\n",
       "  '参考',\n",
       "  '参考价值',\n",
       "  '发掘',\n",
       "  '发行',\n",
       "  '发货',\n",
       "  '史是',\n",
       "  '各种因素',\n",
       "  '各类',\n",
       "  '各项',\n",
       "  '合算',\n",
       "  '听取',\n",
       "  '吸取',\n",
       "  '周刊',\n",
       "  '周期',\n",
       "  '周转',\n",
       "  '周转不灵',\n",
       "  '品位',\n",
       "  '品种',\n",
       "  '唯一',\n",
       "  '因素',\n",
       "  '困难',\n",
       "  '图书',\n",
       "  '图书馆',\n",
       "  '图表',\n",
       "  '图解法',\n",
       "  '在手',\n",
       "  '地名',\n",
       "  '地被',\n",
       "  '培育',\n",
       "  '基础',\n",
       "  '壮大',\n",
       "  '复印',\n",
       "  '复印机',\n",
       "  '外部',\n",
       "  '多种',\n",
       "  '大学',\n",
       "  '大海',\n",
       "  '好书',\n",
       "  '好几本',\n",
       "  '姑妄听之',\n",
       "  '存货',\n",
       "  '学习',\n",
       "  '学术',\n",
       "  '学术著作',\n",
       "  '定价',\n",
       "  '实盈',\n",
       "  '实际',\n",
       "  '客观',\n",
       "  '家中',\n",
       "  '家用',\n",
       "  '容易',\n",
       "  '对象',\n",
       "  '导与',\n",
       "  '尝试',\n",
       "  '就可以看',\n",
       "  '就行了',\n",
       "  '工作人员',\n",
       "  '工具',\n",
       "  '已像',\n",
       "  '年三版',\n",
       "  '年净',\n",
       "  '并不多',\n",
       "  '并未',\n",
       "  '广泛应用',\n",
       "  '库存',\n",
       "  '应收',\n",
       "  '建议',\n",
       "  '开出',\n",
       "  '开列',\n",
       "  '开阔',\n",
       "  '异同',\n",
       "  '当务之急',\n",
       "  '形象',\n",
       "  '彻底解决',\n",
       "  '很强',\n",
       "  '得不到',\n",
       "  '得益',\n",
       "  '必不可少',\n",
       "  '忽视',\n",
       "  '思路',\n",
       "  '急于',\n",
       "  '恰当',\n",
       "  '意向',\n",
       "  '意见',\n",
       "  '成分',\n",
       "  '成本',\n",
       "  '手头',\n",
       "  '批评',\n",
       "  '技巧',\n",
       "  '技术性',\n",
       "  '报表',\n",
       "  '指标',\n",
       "  '损益表',\n",
       "  '排印',\n",
       "  '推荐',\n",
       "  '推销',\n",
       "  '描绘',\n",
       "  '提多',\n",
       "  '提好',\n",
       "  '支出',\n",
       "  '效果',\n",
       "  '效率高',\n",
       "  '教材',\n",
       "  '教科书',\n",
       "  '数量',\n",
       "  '文依',\n",
       "  '文化',\n",
       "  '文学系',\n",
       "  '文献号',\n",
       "  '文章',\n",
       "  '斯顿',\n",
       "  '新闻出版署',\n",
       "  '方方面面',\n",
       "  '方程式',\n",
       "  '既定',\n",
       "  '日程表',\n",
       "  '时刻',\n",
       "  '时间',\n",
       "  '时隔',\n",
       "  '明天',\n",
       "  '普及',\n",
       "  '普林',\n",
       "  '景象',\n",
       "  '智慧',\n",
       "  '最低',\n",
       "  '最佳',\n",
       "  '有损于',\n",
       "  '有用',\n",
       "  '有益',\n",
       "  '有限',\n",
       "  '期号',\n",
       "  '杂志',\n",
       "  '杰出',\n",
       "  '标准',\n",
       "  '标题',\n",
       "  '框架',\n",
       "  '棘手',\n",
       "  '概论',\n",
       "  '款额',\n",
       "  '正确',\n",
       "  '此例',\n",
       "  '比例',\n",
       "  '比率',\n",
       "  '毕业',\n",
       "  '毛利',\n",
       "  '水平',\n",
       "  '沉浸',\n",
       "  '沟通',\n",
       "  '洞察',\n",
       "  '流动',\n",
       "  '流动资产',\n",
       "  '流通',\n",
       "  '深刻',\n",
       "  '清晰',\n",
       "  '渠道',\n",
       "  '火花',\n",
       "  '然他',\n",
       "  '熟悉',\n",
       "  '物质',\n",
       "  '特有',\n",
       "  '王益',\n",
       "  '环境',\n",
       "  '现已',\n",
       "  '现金',\n",
       "  '理性',\n",
       "  '理想',\n",
       "  '理解',\n",
       "  '甜酸苦辣',\n",
       "  '生活',\n",
       "  '用不着',\n",
       "  '用书',\n",
       "  '电传',\n",
       "  '电子计算机',\n",
       "  '电影',\n",
       "  '电影院',\n",
       "  '电视机',\n",
       "  '电钮',\n",
       "  '略去',\n",
       "  '百分比',\n",
       "  '盈亏',\n",
       "  '盈利性',\n",
       "  '盈是',\n",
       "  '监督',\n",
       "  '目标',\n",
       "  '目的',\n",
       "  '直至',\n",
       "  '相互',\n",
       "  '看法',\n",
       "  '真实',\n",
       "  '着墨',\n",
       "  '短期',\n",
       "  '研究',\n",
       "  '研究成果',\n",
       "  '社会效益',\n",
       "  '社长',\n",
       "  '科学管理',\n",
       "  '秩序',\n",
       "  '积压',\n",
       "  '积攒',\n",
       "  '称为',\n",
       "  '程度',\n",
       "  '税负',\n",
       "  '立论',\n",
       "  '符合',\n",
       "  '第一年',\n",
       "  '第二步',\n",
       "  '第五章',\n",
       "  '简单',\n",
       "  '管理',\n",
       "  '管理科学',\n",
       "  '篇幅',\n",
       "  '类型',\n",
       "  '精神',\n",
       "  '精辟',\n",
       "  '精通',\n",
       "  '系统',\n",
       "  '约束',\n",
       "  '纯利润',\n",
       "  '纳入',\n",
       "  '细节',\n",
       "  '经济',\n",
       "  '经济实用',\n",
       "  '经济效益',\n",
       "  '经营',\n",
       "  '经营管理者',\n",
       "  '经验',\n",
       "  '结论性',\n",
       "  '绝大部分',\n",
       "  '编制',\n",
       "  '缺少',\n",
       "  '美国',\n",
       "  '美术设计',\n",
       "  '美的',\n",
       "  '翻译',\n",
       "  '老板',\n",
       "  '脱销',\n",
       "  '自动',\n",
       "  '艺术',\n",
       "  '花费',\n",
       "  '若干套',\n",
       "  '营养',\n",
       "  '著作',\n",
       "  '虚亏',\n",
       "  '虚盈实亏',\n",
       "  '行业',\n",
       "  '观点',\n",
       "  '誉为',\n",
       "  '计划表',\n",
       "  '计算',\n",
       "  '计算出来',\n",
       "  '订单',\n",
       "  '记录',\n",
       "  '论及',\n",
       "  '论文集',\n",
       "  '论述',\n",
       "  '设想',\n",
       "  '设计',\n",
       "  '评介',\n",
       "  '评估',\n",
       "  '试图',\n",
       "  '详细',\n",
       "  '说服力',\n",
       "  '读懂',\n",
       "  '读物',\n",
       "  '读者',\n",
       "  '读者群',\n",
       "  '课程',\n",
       "  '谈得上',\n",
       "  '贝利',\n",
       "  '负债',\n",
       "  '财会',\n",
       "  '财务',\n",
       "  '责编',\n",
       "  '质量',\n",
       "  '质量第一',\n",
       "  '购买',\n",
       "  '费用',\n",
       "  '资产',\n",
       "  '资本',\n",
       "  '赚钱',\n",
       "  '赫伯特',\n",
       "  '超过',\n",
       "  '足不出户',\n",
       "  '还会',\n",
       "  '进度',\n",
       "  '迸发出',\n",
       "  '追求',\n",
       "  '追逐',\n",
       "  '退休',\n",
       "  '选作',\n",
       "  '速兑',\n",
       "  '遭致',\n",
       "  '部门',\n",
       "  '重印',\n",
       "  '重要性',\n",
       "  '金额',\n",
       "  '销售',\n",
       "  '销售量',\n",
       "  '销售额',\n",
       "  '销货',\n",
       "  '错误',\n",
       "  '长期实践',\n",
       "  '阅读',\n",
       "  '阐述',\n",
       "  '附录',\n",
       "  '陌生',\n",
       "  '降低',\n",
       "  '限度',\n",
       "  '需求',\n",
       "  '非常',\n",
       "  '非理性',\n",
       "  '非盈利',\n",
       "  '预言',\n",
       "  '领导',\n",
       "  '风险',\n",
       "  '饱和',\n",
       "  '饶有兴趣',\n",
       "  '驱动',\n",
       "  '高产',\n",
       "  '高度',\n",
       "  '高效',\n",
       "  '高明',\n",
       "  '麻烦',\n",
       "  '鼓励'])"
      ]
     },
     "execution_count": 119,
     "metadata": {},
     "output_type": "execute_result"
    }
   ],
   "source": [
    "type(feature_name), feature_name"
   ]
  },
  {
   "cell_type": "code",
   "execution_count": 120,
   "metadata": {},
   "outputs": [
    {
     "data": {
      "text/plain": [
       "(9249, 1034041)"
      ]
     },
     "execution_count": 120,
     "metadata": {},
     "output_type": "execute_result"
    }
   ],
   "source": [
    "words.shape"
   ]
  },
  {
   "cell_type": "code",
   "execution_count": 121,
   "metadata": {},
   "outputs": [
    {
     "data": {
      "text/plain": [
       "scipy.sparse.csr.csr_matrix"
      ]
     },
     "execution_count": 121,
     "metadata": {},
     "output_type": "execute_result"
    }
   ],
   "source": [
    "type(words)"
   ]
  },
  {
   "cell_type": "code",
   "execution_count": 122,
   "metadata": {},
   "outputs": [
    {
     "data": {
      "text/plain": [
       "((9249, 1034041),\n",
       " <1x1034041 sparse matrix of type '<class 'numpy.float64'>'\n",
       " \twith 102 stored elements in Compressed Sparse Row format>)"
      ]
     },
     "execution_count": 122,
     "metadata": {},
     "output_type": "execute_result"
    }
   ],
   "source": [
    "words.shape, words[0]"
   ]
  },
  {
   "cell_type": "code",
   "execution_count": 135,
   "metadata": {},
   "outputs": [
    {
     "data": {
      "text/plain": [
       "(9249, 789)"
      ]
     },
     "execution_count": 135,
     "metadata": {},
     "output_type": "execute_result"
    }
   ],
   "source": [
    "len(wordslist), len(wordslist[0])"
   ]
  },
  {
   "cell_type": "code",
   "execution_count": 136,
   "metadata": {},
   "outputs": [
    {
     "data": {
      "text/plain": [
       "list"
      ]
     },
     "execution_count": 136,
     "metadata": {},
     "output_type": "execute_result"
    }
   ],
   "source": [
    "type(wordslist[0])"
   ]
  },
  {
   "cell_type": "code",
   "execution_count": null,
   "metadata": {},
   "outputs": [],
   "source": []
  }
 ],
 "metadata": {
  "kernelspec": {
   "display_name": "yonyou",
   "language": "python",
   "name": "yonyou"
  },
  "language_info": {
   "codemirror_mode": {
    "name": "ipython",
    "version": 3
   },
   "file_extension": ".py",
   "mimetype": "text/x-python",
   "name": "python",
   "nbconvert_exporter": "python",
   "pygments_lexer": "ipython3",
   "version": "3.6.5"
  }
 },
 "nbformat": 4,
 "nbformat_minor": 4
}
